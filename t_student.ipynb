{
  "nbformat": 4,
  "nbformat_minor": 0,
  "metadata": {
    "kernelspec": {
      "display_name": "R",
      "language": "R",
      "name": "ir"
    },
    "language_info": {
      "codemirror_mode": "r",
      "file_extension": ".r",
      "mimetype": "text/x-r-source",
      "name": "R",
      "pygments_lexer": "r",
      "version": "3.6.1"
    },
    "colab": {
      "name": "t_student.ipynb",
      "provenance": [],
      "collapsed_sections": []
    }
  },
  "cells": [
    {
      "cell_type": "markdown",
      "metadata": {
        "id": "9OTeSl-HvVNY"
      },
      "source": [
        "# Student's *t*-test variances\n",
        "The purpose of Student's *t*-tests is to verify the null hypothesis that the means of the two samples (A and B) are equal (two-sample version). With the null hypothesis so stated, there are 3 possible alternative hypothesis:\n",
        "*   $H_1$: The means between groups A and B are significantly different ($\\mu_A \\neq \\mu_B$).\n",
        "*   $H_2$: The mean in group A is higher than in group B ($\\mu_A > \\mu_B$).\n",
        "*   $H_3$: The mean in group B is less than in group B ($\\mu_A < \\mu_B$).\n",
        "\n",
        "There is also a one-sample Student's t-test version. Then the null hypothesis of equality of the sample mean with a predetermined expected value is verified. The set of alternative hypotheses is of the form above (but this time for one sample).\n",
        "\n",
        "Student's t-test belongs to the parametric test family, which means that the following conditions must be met:\n",
        "*   data come from a normal distribution (for both group A and B),\n",
        "*   variances between groups are homogeneous.\n",
        "\n",
        "\n",
        "\n",
        "\n",
        "\n",
        "\n",
        "\n"
      ]
    },
    {
      "cell_type": "markdown",
      "metadata": {
        "id": "lPi56WN3vVNd"
      },
      "source": [
        "## Checking that the data comes from a normal distribution + homogeneity of variance"
      ]
    },
    {
      "cell_type": "code",
      "metadata": {
        "id": "61gMmaBUvVNe"
      },
      "source": [
        "check.normal <- function(X){\n",
        "  p.val <- shapiro.test(X)$p.value\n",
        "  ifelse(p.val >= 0.05, TRUE, FALSE)\n",
        "    }\n",
        "\n",
        "check.var <- function(X, Y){\n",
        "  p.val <- var.test(X, Y)$p.value\n",
        "  ifelse(p.val >= 0.05, TRUE, FALSE)\n",
        "    }"
      ],
      "execution_count": 1,
      "outputs": []
    },
    {
      "cell_type": "markdown",
      "metadata": {
        "id": "CAk092lRvVNg"
      },
      "source": [
        "## One-sample *t*-test"
      ]
    },
    {
      "cell_type": "code",
      "metadata": {
        "id": "oa0nzNHqvVNh"
      },
      "source": [
        "t.one <- function(X, mu0, alternative){\n",
        "    cat('One sample T-Test (mu0 =)', mu0)\n",
        "    n <- length(X)\n",
        "    mean.X <- mean(X)\n",
        "    sd.X <- sd(X)\n",
        "    T.stat <- sqrt(n) * (mean.X - mu0) / sd.X\n",
        "    if(alternative == 'two.sided'){\n",
        "            p.value <- 2 * pt(abs(T.stat), n-1, lower.tail = FALSE)\n",
        "        }\n",
        "        else if(alternative == 'greater'){\n",
        "            p.value <- pt(T.stat, n-1, lower.tail = FALSE)\n",
        "        }\n",
        "        else if(alternative == 'less'){\n",
        "            p.value <- 1 - pt(T.stat, n-1, lower.tail = FALSE)\n",
        "        }\n",
        "        else{\n",
        "            stop('Incorrect value \"alternative\".')\n",
        "        }\n",
        "            summary <- list(T.value = T.stat,\n",
        "                            p.value = p.value,\n",
        "                            mean.X = mean.X)\n",
        "            return(summary)\n",
        "    }"
      ],
      "execution_count": 2,
      "outputs": []
    },
    {
      "cell_type": "markdown",
      "metadata": {
        "id": "z_6UTuKRvVNj"
      },
      "source": [
        "## Unpaired two-sample *t*-test"
      ]
    },
    {
      "cell_type": "code",
      "metadata": {
        "id": "p5WsIX8OvVNj"
      },
      "source": [
        "t.two.unpaired <- function(X, Y, alternative){\n",
        "    cat(\"Unpaired two-sample t-test\")\n",
        "    n <- length(X)\n",
        "    m <- length(Y)\n",
        "    mean.X <- mean(X)\n",
        "    mean.Y <- mean(Y)\n",
        "    var.X <- var(X)\n",
        "    var.Y <- var(Y)\n",
        "    df <- n + m - 2\n",
        "    z.znorm <- sqrt((n * m * (df)) / (n + m))\n",
        "    T.stat = (mean.X - mean.Y) / sqrt((n-1) * var.X + (m-1) * var.Y) * z.znorm\n",
        "    if(alternative == 'two.sided'){\n",
        "        p.value <- 2 * pt(abs(T.stat), df, lower.tail = FALSE)\n",
        "    }\n",
        "    else if(alternative == 'greater'){\n",
        "        p.value <- pt(T.stat, df, lower.tail = FALSE)\n",
        "    }\n",
        "    else if(alternative == 'less'){\n",
        "        p.value <- 1 - pt(T.stat, df, lower.tail = FALSE)\n",
        "    }\n",
        "    else{\n",
        "        stop('Incorrect value \"alternative\".')\n",
        "    }\n",
        "        summary <- list(T.value = T.stat,\n",
        "                        p.value = p.value)\n",
        "        return(summary)\n",
        "}"
      ],
      "execution_count": 3,
      "outputs": []
    },
    {
      "cell_type": "markdown",
      "metadata": {
        "id": "wwGm9Waewkcd"
      },
      "source": [
        "## Paired two-sample *t*-test"
      ]
    },
    {
      "cell_type": "code",
      "metadata": {
        "id": "shD-uJwgvVNl"
      },
      "source": [
        "t.two.paired <- function(X, Y, alternative){\n",
        "    n <- length(X)\n",
        "    m <- length(Y)\n",
        "    if(n != m){\n",
        "        stop(\"The lengths of the vectors (groups) X and Y are not equal.\")\n",
        "    }\n",
        "    cat('Paired two-sample t-test.')\n",
        "    D <- X - Y\n",
        "    mean.D <- mean(D)\n",
        "    sd.D <- sd(D)\n",
        "    T.stat <- sqrt(n) * mean.D / sd.D\n",
        "    if(alternative == 'two.sided'){\n",
        "        p.value <- 2 * pt(abs(T.stat), n-1, lower.tail = FALSE)\n",
        "    }\n",
        "    else if(alternative == 'greater'){\n",
        "        p.value <- pt(T.stat, n-1, lower.tail = FALSE)\n",
        "    }\n",
        "    else if(alternative == 'less'){\n",
        "        p.value <- 1 - pt(T.stat, n-1, lower.tail = FALSE)\n",
        "    }\n",
        "    else{\n",
        "        stop('Incorrect value \"alternative\".')\n",
        "    }\n",
        "        summary <- list(T.value = T.stat,\n",
        "                        p.value = p.value)\n",
        "        return(summary)\n",
        "}"
      ],
      "execution_count": 4,
      "outputs": []
    },
    {
      "cell_type": "markdown",
      "metadata": {
        "id": "dMUVKM7fvVNo"
      },
      "source": [
        "## Student's *t*-test (aggregate function)"
      ]
    },
    {
      "cell_type": "code",
      "metadata": {
        "id": "J-qLAyPWvVNp"
      },
      "source": [
        "t_test <- function(X, Y, mu0 = 0, test = 'unpaired', alternative = 'two.sided'){\n",
        "    if(missing(Y) == TRUE && is.numeric(X)){\n",
        "        summary <- t.one(X, mu0, alternative)\n",
        "        }\n",
        "    else if(test == 'unpaired'){\n",
        "        stopifnot(is.numeric(X) && is.numeric(Y))\n",
        "        if(check.normal(X) == FALSE || check.normal(Y) == FALSE){\n",
        "            stop('The samples are not from a normal distribution, \n",
        "                  indicated use of U-Mann-Whitney test.')\n",
        "        }\n",
        "        if(check.var(X, Y) == FALSE){\n",
        "            stop('Variances of the variables are not homogeneous,\n",
        "                  indicated use of Welch-Aspin`s test.')\n",
        "        }\n",
        "        summary <- t.two.unpaired(X, Y, alternative)\n",
        "    }\n",
        "    else if(test == 'paired'){\n",
        "        stopifnot(is.numeric(X) && is.numeric(Y))\n",
        "        if(check.normal(X) == FALSE || check.normal(Y) == FALSE){\n",
        "            stop('The samples are not from a normal distribution,\n",
        "                  indicated use of Wilcoxon signed rank test.')\n",
        "            }\n",
        "        summary <- t.two.paired(X, Y, alternative)\n",
        "        }\n",
        "    else{\n",
        "        stop('The test method introduced does not exist.')\n",
        "    }\n",
        "        return(summary)\n",
        "        }"
      ],
      "execution_count": 5,
      "outputs": []
    },
    {
      "cell_type": "markdown",
      "metadata": {
        "id": "_lB4l8bJvVNq"
      },
      "source": [
        "### Case: One-sample *t*-test"
      ]
    },
    {
      "cell_type": "code",
      "metadata": {
        "colab": {
          "base_uri": "https://localhost:8080/",
          "height": 357
        },
        "id": "6_lkeRrSvVNq",
        "outputId": "f15ff7d5-12f2-4248-9b9a-46ca7362ba14"
      },
      "source": [
        "set.seed(7)\n",
        "\n",
        "X <- rnorm(30)\n",
        "Y <- rnorm(30)\n",
        "Z <- rnorm(20)\n",
        "\n",
        "t_test(X, mu0 = 2, alternative = \"less\")\n",
        "t.test(X, mu = 2, alternative = \"less\")"
      ],
      "execution_count": 6,
      "outputs": [
        {
          "output_type": "stream",
          "name": "stdout",
          "text": [
            "One sample T-Test (mu0 =) 2"
          ]
        },
        {
          "output_type": "display_data",
          "data": {
            "text/plain": [
              "$T.value\n",
              "[1] -7.800537\n",
              "\n",
              "$p.value\n",
              "[1] 6.653e-09\n",
              "\n",
              "$mean.X\n",
              "[1] 0.3956669\n"
            ],
            "text/latex": "\\begin{description}\n\\item[\\$T.value] -7.80053711686963\n\\item[\\$p.value] 6.65299992874679e-09\n\\item[\\$mean.X] 0.395666868970056\n\\end{description}\n",
            "text/markdown": "$T.value\n:   -7.80053711686963\n$p.value\n:   6.65299992874679e-09\n$mean.X\n:   0.395666868970056\n\n\n",
            "text/html": [
              "<dl>\n",
              "\t<dt>$T.value</dt>\n",
              "\t\t<dd>-7.80053711686963</dd>\n",
              "\t<dt>$p.value</dt>\n",
              "\t\t<dd>6.65299992874679e-09</dd>\n",
              "\t<dt>$mean.X</dt>\n",
              "\t\t<dd>0.395666868970056</dd>\n",
              "</dl>\n"
            ]
          },
          "metadata": {}
        },
        {
          "output_type": "display_data",
          "data": {
            "text/plain": [
              "\n",
              "\tOne Sample t-test\n",
              "\n",
              "data:  X\n",
              "t = -7.8005, df = 29, p-value = 6.653e-09\n",
              "alternative hypothesis: true mean is less than 2\n",
              "95 percent confidence interval:\n",
              "      -Inf 0.7451256\n",
              "sample estimates:\n",
              "mean of x \n",
              "0.3956669 \n"
            ]
          },
          "metadata": {}
        }
      ]
    },
    {
      "cell_type": "markdown",
      "metadata": {
        "id": "2k3plwqtvVNr"
      },
      "source": [
        "### Case: Unpaired two-sample *t*-test"
      ]
    },
    {
      "cell_type": "code",
      "metadata": {
        "colab": {
          "base_uri": "https://localhost:8080/",
          "height": 323
        },
        "id": "Kmh4mm_OvVNr",
        "outputId": "ed64f5cb-3175-4d3c-e604-a0047c53ab7a"
      },
      "source": [
        "t_test(X, Y)\n",
        "t.test(X, Y, paired = FALSE, var.equal = TRUE)"
      ],
      "execution_count": 7,
      "outputs": [
        {
          "output_type": "stream",
          "name": "stdout",
          "text": [
            "Unpaired two-sample t-test"
          ]
        },
        {
          "output_type": "display_data",
          "data": {
            "text/plain": [
              "$T.value\n",
              "[1] 1.425253\n",
              "\n",
              "$p.value\n",
              "[1] 0.1594434\n"
            ],
            "text/latex": "\\begin{description}\n\\item[\\$T.value] 1.42525340245529\n\\item[\\$p.value] 0.159443439474014\n\\end{description}\n",
            "text/markdown": "$T.value\n:   1.42525340245529\n$p.value\n:   0.159443439474014\n\n\n",
            "text/html": [
              "<dl>\n",
              "\t<dt>$T.value</dt>\n",
              "\t\t<dd>1.42525340245529</dd>\n",
              "\t<dt>$p.value</dt>\n",
              "\t\t<dd>0.159443439474014</dd>\n",
              "</dl>\n"
            ]
          },
          "metadata": {}
        },
        {
          "output_type": "display_data",
          "data": {
            "text/plain": [
              "\n",
              "\tTwo Sample t-test\n",
              "\n",
              "data:  X and Y\n",
              "t = 1.4253, df = 58, p-value = 0.1594\n",
              "alternative hypothesis: true difference in means is not equal to 0\n",
              "95 percent confidence interval:\n",
              " -0.1453284  0.8639501\n",
              "sample estimates:\n",
              " mean of x  mean of y \n",
              "0.39566687 0.03635604 \n"
            ]
          },
          "metadata": {}
        }
      ]
    },
    {
      "cell_type": "markdown",
      "metadata": {
        "id": "Oj04OOn1vVNs"
      },
      "source": [
        "### Case: Paired two-sample *t*-test"
      ]
    },
    {
      "cell_type": "code",
      "metadata": {
        "colab": {
          "base_uri": "https://localhost:8080/",
          "height": 323
        },
        "id": "zd87Wn9WvVNs",
        "outputId": "703480ea-4871-40a9-980d-7fc6ba36a95f"
      },
      "source": [
        "t_test(X, Y, test = \"paired\")\n",
        "t.test(X, Y, paired = TRUE)"
      ],
      "execution_count": 8,
      "outputs": [
        {
          "output_type": "stream",
          "name": "stdout",
          "text": [
            "Paired two-sample t-test."
          ]
        },
        {
          "output_type": "display_data",
          "data": {
            "text/plain": [
              "$T.value\n",
              "[1] 1.276939\n",
              "\n",
              "$p.value\n",
              "[1] 0.2117541\n"
            ],
            "text/latex": "\\begin{description}\n\\item[\\$T.value] 1.27693857468896\n\\item[\\$p.value] 0.211754077776352\n\\end{description}\n",
            "text/markdown": "$T.value\n:   1.27693857468896\n$p.value\n:   0.211754077776352\n\n\n",
            "text/html": [
              "<dl>\n",
              "\t<dt>$T.value</dt>\n",
              "\t\t<dd>1.27693857468896</dd>\n",
              "\t<dt>$p.value</dt>\n",
              "\t\t<dd>0.211754077776352</dd>\n",
              "</dl>\n"
            ]
          },
          "metadata": {}
        },
        {
          "output_type": "display_data",
          "data": {
            "text/plain": [
              "\n",
              "\tPaired t-test\n",
              "\n",
              "data:  X and Y\n",
              "t = 1.2769, df = 29, p-value = 0.2118\n",
              "alternative hypothesis: true difference in means is not equal to 0\n",
              "95 percent confidence interval:\n",
              " -0.2161853  0.9348069\n",
              "sample estimates:\n",
              "mean of the differences \n",
              "              0.3593108 \n"
            ]
          },
          "metadata": {}
        }
      ]
    },
    {
      "cell_type": "markdown",
      "metadata": {
        "id": "A19JNsrrvVNs"
      },
      "source": [
        "### Case: The lengths of the variables (groups) X and Z are not equal"
      ]
    },
    {
      "cell_type": "code",
      "metadata": {
        "colab": {
          "base_uri": "https://localhost:8080/",
          "height": 165
        },
        "id": "j-S5wu9AvVNt",
        "outputId": "83c83b3c-26a5-4480-8100-73a69ca8f42a"
      },
      "source": [
        "t_test(X, Z, test = \"paired\")"
      ],
      "execution_count": 9,
      "outputs": [
        {
          "output_type": "error",
          "ename": "ERROR",
          "evalue": "ignored",
          "traceback": [
            "Error in t.two.paired(X, Y, alternative): The lengths of the vectors (groups) X and Y are not equal.\nTraceback:\n",
            "1. t_test(X, Z, test = \"paired\")",
            "2. t.two.paired(X, Y, alternative)   # at line 23 of file <text>",
            "3. stop(\"The lengths of the vectors (groups) X and Y are not equal.\")   # at line 5 of file <text>"
          ]
        }
      ]
    }
  ]
}