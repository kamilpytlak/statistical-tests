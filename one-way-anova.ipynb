{
 "cells": [
  {
   "cell_type": "markdown",
   "metadata": {},
   "source": [
    "# One-way ANalysis Of VAriance (ANOVA)\n",
    "ANalaysis Of VAriance (ANOVA) is often colloquially described as extension of the Student's *t*-test, in which only two groups (A and B) are compared. If we have three or more groups, we can compare their within-group variances to their between-group variance, which will provide as an F-statistic. \"One-way\" in the method name means that our study is univariate - i.e., the dependent variable is affected by only one factor (e.g., differences in the average number of cigarettes burned per day between provinces in Poland). Keep in mind that this is a parametric test, which means that certain conditions about the form of the variables must be met. "
   ]
  },
  {
   "cell_type": "markdown",
   "metadata": {},
   "source": [
    "## One-way ANOVA"
   ]
  },
  {
   "cell_type": "code",
   "execution_count": 39,
   "metadata": {},
   "outputs": [],
   "source": [
    "check.normal <- function(Y, X){\n",
    "    k <- levels(X)\n",
    "    for(g in k){\n",
    "        p.val <- shapiro.test(Y[X == g])$p.value\n",
    "        if(p.val < 0.05){\n",
    "            cat(sprintf('Brak normalności rozkładu czynnika ilościowego w grupie %s.\\n', g))\n",
    "            }\n",
    "    }\n",
    "}\n",
    "\n",
    "check.var <- function(Y, X){\n",
    "    p.val <- bartlett.test(Y, g = X)$p.value\n",
    "    if(p.val < 0.05){\n",
    "        print('The variances between groups are not homogeneous.\\n')\n",
    "    }\n",
    "}\n",
    "\n",
    "LSD_test <- function(n, k.len, MSe, n.grps, M.grps){\n",
    "    LSD.vals <- c()\n",
    "    for(k.i in seq(1, nrow(n.grps)-1)){\n",
    "        for(k.j in seq(k.i+1, nrow(n.grps))){\n",
    "            LSD <- qt(0.975, n-k.len) * sqrt(MSe * (1/n.grps[k.i, 2] + 1/n.grps[k.j, 2]))\n",
    "            if(abs(M.grps[k.i, 2] - M.grps[k.j, 2]) > LSD){\n",
    "                LSD.vals <- c(LSD.vals, as.character(paste(k.i, k.j, sep = \"-\")))\n",
    "            }\n",
    "        }\n",
    "    }\n",
    "    return(LSD.vals)\n",
    "}"
   ]
  },
  {
   "cell_type": "code",
   "execution_count": 40,
   "metadata": {},
   "outputs": [],
   "source": [
    "one.way <- function(Y, X1){\n",
    "    k <- levels(X1)\n",
    "    k.len <- length(k)\n",
    "    \n",
    "    stopifnot(k.len > 2)\n",
    "    check.normal(Y, X1)\n",
    "    check.var(Y, X1)\n",
    "    \n",
    "    Y <- as.matrix(Y)\n",
    "    X1 <- as.matrix(X1)\n",
    "    \n",
    "    n <- nrow(Y)\n",
    "    intercept <- matrix(1, nrow(Y), 1)\n",
    "    Z <- matrix(0, n, k.len-1)\n",
    "    \n",
    "    for(i in 1:n){\n",
    "        idx <- match(X1[i], k[-1])\n",
    "        Z[i, idx] <- 1\n",
    "    }\n",
    "    X <- cbind(intercept, Z)\n",
    "    \n",
    "    A <- crossprod(X, Y)\n",
    "    B <- solve(crossprod(X))\n",
    "    b <- B %*% A\n",
    "    M.gen <- mean(Y)\n",
    "    \n",
    "    SSR <- crossprod(b, A) - n * M.gen^2\n",
    "    SSE <- crossprod(Y) - crossprod(b, A)\n",
    "    \n",
    "    df.R <- k.len-1\n",
    "    df.E <- n - k.len\n",
    "    \n",
    "    MSR <- SSR/df.R\n",
    "    MSE <- SSE/df.E\n",
    "    \n",
    "    F <- MSR/MSE\n",
    "    p.value <- pf(F, df.R, df.E, lower.tail = FALSE)\n",
    "    \n",
    "    LSD.result <- NA\n",
    "    if(p.value < 0.05){\n",
    "        n.grps <- aggregate(Y ~ X1, FUN = length)\n",
    "        M.grps <- aggregate(Y ~ X1, FUN = mean)\n",
    "        LSD.result <- LSD_test(n, k.len, MSE, n.grps, M.grps)\n",
    "    }\n",
    "    \n",
    "    SS <- rbind(SSR, SSE)\n",
    "    df <- rbind(df.R, df.E)\n",
    "    MS <- rbind(MSR, MSE)\n",
    "    \n",
    "    return(list(summary = data.frame(Df = df,\n",
    "               SS = SS,\n",
    "               MS = MS,\n",
    "               F = F,\n",
    "               p.value = p.value,\n",
    "               row.names = c('X', 'Residuals')),\n",
    "                LSD.test = LSD.result))\n",
    "}"
   ]
  },
  {
   "cell_type": "markdown",
   "metadata": {},
   "source": [
    "## Case: ToothGrowth dataset"
   ]
  },
  {
   "cell_type": "code",
   "execution_count": 41,
   "metadata": {},
   "outputs": [],
   "source": [
    "library(ggplot2)"
   ]
  },
  {
   "cell_type": "code",
   "execution_count": 42,
   "metadata": {},
   "outputs": [
    {
     "name": "stdout",
     "output_type": "stream",
     "text": [
      "'data.frame':\t60 obs. of  3 variables:\n",
      " $ len : num  4.2 11.5 7.3 5.8 6.4 10 11.2 11.2 5.2 7 ...\n",
      " $ supp: Factor w/ 2 levels \"OJ\",\"VC\": 2 2 2 2 2 2 2 2 2 2 ...\n",
      " $ dose: Factor w/ 3 levels \"0.5\",\"1\",\"2\": 1 1 1 1 1 1 1 1 1 1 ...\n"
     ]
    }
   ],
   "source": [
    "str(ToothGrowth)"
   ]
  },
  {
   "cell_type": "code",
   "execution_count": 43,
   "metadata": {},
   "outputs": [
    {
     "data": {
      "text/plain": [
       "      len        supp     dose   \n",
       " Min.   : 4.20   OJ:30   0.5:20  \n",
       " 1st Qu.:13.07   VC:30   1  :20  \n",
       " Median :19.25           2  :20  \n",
       " Mean   :18.81                   \n",
       " 3rd Qu.:25.27                   \n",
       " Max.   :33.90                   "
      ]
     },
     "metadata": {},
     "output_type": "display_data"
    }
   ],
   "source": [
    "ToothGrowth$dose <- as.factor(ToothGrowth$dose)\n",
    "\n",
    "summary(ToothGrowth)"
   ]
  },
  {
   "cell_type": "code",
   "execution_count": 44,
   "metadata": {},
   "outputs": [
    {
     "data": {
      "text/html": [
       "<table class=\"dataframe\">\n",
       "<caption>A data.frame: 3 × 2</caption>\n",
       "<thead>\n",
       "\t<tr><th scope=col>dose</th><th scope=col>len</th></tr>\n",
       "\t<tr><th scope=col>&lt;fct&gt;</th><th scope=col>&lt;dbl&gt;</th></tr>\n",
       "</thead>\n",
       "<tbody>\n",
       "\t<tr><td>0.5</td><td>0.2466015</td></tr>\n",
       "\t<tr><td>1  </td><td>0.1638821</td></tr>\n",
       "\t<tr><td>2  </td><td>0.9019115</td></tr>\n",
       "</tbody>\n",
       "</table>\n"
      ],
      "text/latex": [
       "A data.frame: 3 × 2\n",
       "\\begin{tabular}{ll}\n",
       " dose & len\\\\\n",
       " <fct> & <dbl>\\\\\n",
       "\\hline\n",
       "\t 0.5 & 0.2466015\\\\\n",
       "\t 1   & 0.1638821\\\\\n",
       "\t 2   & 0.9019115\\\\\n",
       "\\end{tabular}\n"
      ],
      "text/markdown": [
       "\n",
       "A data.frame: 3 × 2\n",
       "\n",
       "| dose &lt;fct&gt; | len &lt;dbl&gt; |\n",
       "|---|---|\n",
       "| 0.5 | 0.2466015 |\n",
       "| 1   | 0.1638821 |\n",
       "| 2   | 0.9019115 |\n",
       "\n"
      ],
      "text/plain": [
       "  dose len      \n",
       "1 0.5  0.2466015\n",
       "2 1    0.1638821\n",
       "3 2    0.9019115"
      ]
     },
     "metadata": {},
     "output_type": "display_data"
    }
   ],
   "source": [
    "aggregate(len ~ dose,\n",
    "          data = ToothGrowth,\n",
    "          FUN = function(x) {y <- shapiro.test(x); c(y$p.value)})"
   ]
  },
  {
   "cell_type": "code",
   "execution_count": 45,
   "metadata": {},
   "outputs": [
    {
     "data": {
      "image/png": "[encoded data removed]",
      "text/plain": [
       "plot without title"
      ]
     },
     "metadata": {
      "image/png": {
       "height": 420,
       "width": 420
      }
     },
     "output_type": "display_data"
    }
   ],
   "source": [
    "ggplot(ToothGrowth, aes(x = dose, y = len)) +\n",
    "    geom_violin(trim = FALSE, fill = \"orange\") +\n",
    "    geom_boxplot(width = 0.2) +\n",
    "    theme_bw()"
   ]
  },
  {
   "cell_type": "code",
   "execution_count": 46,
   "metadata": {},
   "outputs": [
    {
     "data": {
      "text/html": [
       "<dl>\n",
       "\t<dt>$summary</dt>\n",
       "\t\t<dd><table class=\"dataframe\">\n",
       "<caption>A data.frame: 2 × 5</caption>\n",
       "<thead>\n",
       "\t<tr><th></th><th scope=col>Df</th><th scope=col>SS</th><th scope=col>MS</th><th scope=col>F</th><th scope=col>p.value</th></tr>\n",
       "\t<tr><th></th><th scope=col>&lt;dbl&gt;</th><th scope=col>&lt;dbl&gt;</th><th scope=col>&lt;dbl&gt;</th><th scope=col>&lt;dbl&gt;</th><th scope=col>&lt;dbl&gt;</th></tr>\n",
       "</thead>\n",
       "<tbody>\n",
       "\t<tr><th scope=row>X</th><td> 2</td><td>2426.434</td><td>1213.21717</td><td>67.41574</td><td>9.532727e-16</td></tr>\n",
       "\t<tr><th scope=row>Residuals</th><td>57</td><td>1025.775</td><td>  17.99605</td><td>67.41574</td><td>9.532727e-16</td></tr>\n",
       "</tbody>\n",
       "</table>\n",
       "</dd>\n",
       "\t<dt>$LSD.test</dt>\n",
       "\t\t<dd><style>\n",
       ".list-inline {list-style: none; margin:0; padding: 0}\n",
       ".list-inline>li {display: inline-block}\n",
       ".list-inline>li:not(:last-child)::after {content: \"\\00b7\"; padding: 0 .5ex}\n",
       "</style>\n",
       "<ol class=list-inline><li>'1-2'</li><li>'1-3'</li><li>'2-3'</li></ol>\n",
       "</dd>\n",
       "</dl>\n"
      ],
      "text/latex": [
       "\\begin{description}\n",
       "\\item[\\$summary] A data.frame: 2 × 5\n",
       "\\begin{tabular}{r|lllll}\n",
       "  & Df & SS & MS & F & p.value\\\\\n",
       "  & <dbl> & <dbl> & <dbl> & <dbl> & <dbl>\\\\\n",
       "\\hline\n",
       "\tX &  2 & 2426.434 & 1213.21717 & 67.41574 & 9.532727e-16\\\\\n",
       "\tResiduals & 57 & 1025.775 &   17.99605 & 67.41574 & 9.532727e-16\\\\\n",
       "\\end{tabular}\n",
       "\n",
       "\\item[\\$LSD.test] \\begin{enumerate*}\n",
       "\\item '1-2'\n",
       "\\item '1-3'\n",
       "\\item '2-3'\n",
       "\\end{enumerate*}\n",
       "\n",
       "\\end{description}\n"
      ],
      "text/markdown": [
       "$summary\n",
       ":   \n",
       "A data.frame: 2 × 5\n",
       "\n",
       "| <!--/--> | Df &lt;dbl&gt; | SS &lt;dbl&gt; | MS &lt;dbl&gt; | F &lt;dbl&gt; | p.value &lt;dbl&gt; |\n",
       "|---|---|---|---|---|---|\n",
       "| X |  2 | 2426.434 | 1213.21717 | 67.41574 | 9.532727e-16 |\n",
       "| Residuals | 57 | 1025.775 |   17.99605 | 67.41574 | 9.532727e-16 |\n",
       "\n",
       "\n",
       "$LSD.test\n",
       ":   1. '1-2'\n",
       "2. '1-3'\n",
       "3. '2-3'\n",
       "\n",
       "\n",
       "\n",
       "\n",
       "\n"
      ],
      "text/plain": [
       "$summary\n",
       "          Df       SS         MS        F      p.value\n",
       "X          2 2426.434 1213.21717 67.41574 9.532727e-16\n",
       "Residuals 57 1025.775   17.99605 67.41574 9.532727e-16\n",
       "\n",
       "$LSD.test\n",
       "[1] \"1-2\" \"1-3\" \"2-3\"\n"
      ]
     },
     "metadata": {},
     "output_type": "display_data"
    },
    {
     "data": {
      "text/plain": [
       "            Df Sum Sq Mean Sq F value   Pr(>F)    \n",
       "dose         2   2426    1213   67.42 9.53e-16 ***\n",
       "Residuals   57   1026      18                     \n",
       "---\n",
       "Signif. codes:  0 '***' 0.001 '**' 0.01 '*' 0.05 '.' 0.1 ' ' 1"
      ]
     },
     "metadata": {},
     "output_type": "display_data"
    },
    {
     "data": {
      "text/plain": [
       "  Tukey multiple comparisons of means\n",
       "    95% family-wise confidence level\n",
       "\n",
       "Fit: aov(formula = len ~ dose, data = ToothGrowth)\n",
       "\n",
       "$dose\n",
       "        diff       lwr       upr    p adj\n",
       "1-0.5  9.130  5.901805 12.358195 0.00e+00\n",
       "2-0.5 15.495 12.266805 18.723195 0.00e+00\n",
       "2-1    6.365  3.136805  9.593195 4.25e-05\n"
      ]
     },
     "metadata": {},
     "output_type": "display_data"
    }
   ],
   "source": [
    "aov_model_mine <- one.way(Y = ToothGrowth$len, X1 = ToothGrowth$dose)\n",
    "aov_model_R <- aov(len ~ dose, data = ToothGrowth)\n",
    "\n",
    "aov_model_mine\n",
    "summary(aov_model_R)\n",
    "TukeyHSD(aov_model_R)"
   ]
  }
 ],
 "metadata": {
  "kernelspec": {
   "display_name": "R",
   "language": "R",
   "name": "ir"
  },
  "language_info": {
   "codemirror_mode": "r",
   "file_extension": ".r",
   "mimetype": "text/x-r-source",
   "name": "R",
   "pygments_lexer": "r",
   "version": "4.1.2"
  },
  "orig_nbformat": 4
 },
 "nbformat": 4,
 "nbformat_minor": 2
}
